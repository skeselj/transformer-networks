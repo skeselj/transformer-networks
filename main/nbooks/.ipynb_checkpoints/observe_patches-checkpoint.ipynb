{
 "cells": [
  {
   "cell_type": "markdown",
   "metadata": {},
   "source": [
    "# Inspect"
   ]
  },
  {
   "cell_type": "code",
   "execution_count": 1,
   "metadata": {},
   "outputs": [],
   "source": [
    "%load_ext autoreload\n",
    "%autoreload 2"
   ]
  },
  {
   "cell_type": "code",
   "execution_count": 2,
   "metadata": {},
   "outputs": [],
   "source": [
    "import sys, h5py, math\n",
    "import numpy as np\n",
    "import scipy, scipy.ndimage as img\n",
    "import matplotlib.pyplot as plt\n",
    "plt.set_cmap(\"Greys_r\")\n",
    "\n",
    "sys.path.append(\"..\")\n",
    "from utils.cv_sampler import Sampler\n",
    "from utils.helpers import rem_margin"
   ]
  },
  {
   "cell_type": "code",
   "execution_count": 3,
   "metadata": {
    "collapsed": true
   },
   "outputs": [],
   "source": [
    "#gs://neuroglancer/pinky40_v11/image'\n",
    "#gs://neuroglancer/pinky40_alignment/prealigned"
   ]
  },
  {
   "cell_type": "code",
   "execution_count": null,
   "metadata": {},
   "outputs": [
    {
     "name": "stderr",
     "output_type": "stream",
     "text": [
      "Downloading:  39%|███▊      | 1189/3087 [00:12<00:18, 101.13it/s]"
     ]
    }
   ],
   "source": [
    "mip = 3\n",
    "margin = 0.125\n",
    "sidelen, height = 2**mip * 1024, 50\n",
    "adj_sidelen = int((1+2*margin) * sidelen)\n",
    "\n",
    "sampler = Sampler(source='gs://neuroglancer/pinky40_alignment/prealigned', mip=mip)\n",
    "\n",
    "x,y,z = 57343-adj_sidelen, 40959-adj_sidelen, 1000-height\n",
    "chunk = sampler.chunk_at_global_coords((x,y,z),(x+adj_sidelen,y+adj_sidelen,z+height))\n",
    "chunk = np.swapaxes(chunk, 0, 2)"
   ]
  },
  {
   "cell_type": "code",
   "execution_count": null,
   "metadata": {},
   "outputs": [],
   "source": [
    "print(sampler.vol_offsets)\n",
    "print(sampler.vol_size)\n",
    "print(2**15)"
   ]
  },
  {
   "cell_type": "code",
   "execution_count": null,
   "metadata": {},
   "outputs": [],
   "source": [
    "plt.figure(figsize=(10,10))\n",
    "plt.imshow(chunk[0])\n",
    "plt.show()"
   ]
  },
  {
   "cell_type": "code",
   "execution_count": null,
   "metadata": {},
   "outputs": [],
   "source": [
    "from moviepy.editor import ImageSequenceClip "
   ]
  },
  {
   "cell_type": "code",
   "execution_count": null,
   "metadata": {
    "collapsed": true
   },
   "outputs": [],
   "source": []
  }
 ],
 "metadata": {
  "kernelspec": {
   "display_name": "Python 2",
   "language": "python",
   "name": "python2"
  },
  "language_info": {
   "codemirror_mode": {
    "name": "ipython",
    "version": 2
   },
   "file_extension": ".py",
   "mimetype": "text/x-python",
   "name": "python",
   "nbconvert_exporter": "python",
   "pygments_lexer": "ipython2",
   "version": "2.7.12"
  }
 },
 "nbformat": 4,
 "nbformat_minor": 1
}
