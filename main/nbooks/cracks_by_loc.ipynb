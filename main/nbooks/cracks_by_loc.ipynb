{
 "cells": [
  {
   "cell_type": "code",
   "execution_count": null,
   "metadata": {
    "collapsed": true
   },
   "outputs": [],
   "source": []
  },
  {
   "cell_type": "markdown",
   "metadata": {},
   "source": [
    "### Build list of crack locations"
   ]
  },
  {
   "cell_type": "code",
   "execution_count": 35,
   "metadata": {
    "collapsed": true
   },
   "outputs": [],
   "source": [
    "import sys, os\n",
    "import numpy as np\n",
    "import random"
   ]
  },
  {
   "cell_type": "code",
   "execution_count": 51,
   "metadata": {
    "collapsed": false
   },
   "outputs": [
    {
     "name": "stdout",
     "output_type": "stream",
     "text": [
      "2006\n"
     ]
    }
   ],
   "source": [
    "with open('../data/pinky40_cracks.json', 'r') as f:\n",
    "    l = f.readline()\n",
    "    l = l[2:len(l)-3]   # shave off the [[ and ]]\n",
    "    l = l.split('], [')\n",
    "    l = map(lambda e: e.split(', '), l)\n",
    "    l = map(lambda e: map(int, e), l)\n",
    "    crack_locs = l\n",
    "random.shuffle(crack_locs)\n",
    "print(len(crack_locs))\n",
    "n_cracks = len(crack_locs)"
   ]
  },
  {
   "cell_type": "markdown",
   "metadata": {},
   "source": [
    "### Sample at those locations"
   ]
  },
  {
   "cell_type": "code",
   "execution_count": 48,
   "metadata": {
    "collapsed": true
   },
   "outputs": [],
   "source": [
    "import sys, h5py, math\n",
    "import numpy as np\n",
    "import scipy, scipy.ndimage as img\n",
    "import matplotlib.pyplot as plt\n",
    "\n",
    "sys.path.append(\"..\")\n",
    "from data.cv_sampler import Sampler\n",
    "from utils.helpers import shave"
   ]
  },
  {
   "cell_type": "code",
   "execution_count": 49,
   "metadata": {
    "collapsed": true
   },
   "outputs": [],
   "source": [
    "is_test = False   # args.test\n",
    "mip = 2\n",
    "final_dim = 256  # dimension of pairs we save                                               \n",
    "margin = 0.125   # on each side   \n",
    "\n",
    "from data.cv_sampler import Sampler\n",
    "big_dim = int(math.ceil(final_dim / (1 - 2*margin)))\n",
    "sampler = Sampler(source='gs://neuroglancer/pinky40_alignment/prealigned', \\\n",
    "                  mip=mip, dim=big_dim, is_test=is_test)"
   ]
  },
  {
   "cell_type": "code",
   "execution_count": null,
   "metadata": {
    "collapsed": false
   },
   "outputs": [
    {
     "name": "stderr",
     "output_type": "stream",
     "text": [
      "Downloading: 46it [00:00, 39.12it/s]                        \n",
      "Rendering Image: 100%|██████████| 25/25 [00:00<00:00, 3911.14it/s]\n",
      "Downloading: 46it [00:00, 99.86it/s]                         \n",
      "Rendering Image: 100%|██████████| 25/25 [00:00<00:00, 2618.62it/s]\n",
      "Downloading: 42it [00:00, 63.31it/s]                        \n",
      "Rendering Image: 100%|██████████| 25/25 [00:00<00:00, 2964.17it/s]\n",
      "Downloading: 46it [00:00, 72.55it/s]                        \n",
      "Rendering Image: 100%|██████████| 25/25 [00:00<00:00, 3081.15it/s]\n",
      "Downloading: 42it [00:00, 90.37it/s]                        \n",
      "Rendering Image: 100%|██████████| 25/25 [00:00<00:00, 2263.28it/s]\n",
      "Downloading: 42it [00:00, 78.78it/s]                         \n",
      "Rendering Image: 100%|██████████| 25/25 [00:00<00:00, 2318.68it/s]\n",
      "Downloading: 46it [00:00, 73.60it/s]                        \n",
      "Rendering Image: 100%|██████████| 25/25 [00:00<00:00, 2060.64it/s]\n",
      "Downloading: 44it [00:00, 90.03it/s]                         \n",
      "Rendering Image: 100%|██████████| 25/25 [00:00<00:00, 1729.87it/s]\n",
      "Downloading: 40it [00:00, 55.06it/s]               \n",
      "Rendering Image: 100%|██████████| 25/25 [00:00<00:00, 2823.61it/s]\n",
      "Downloading: 44it [00:00, 65.35it/s]                        \n",
      "Rendering Image: 100%|██████████| 25/25 [00:00<00:00, 2495.96it/s]\n",
      "Downloading: 46it [00:00, 66.00it/s]                        \n",
      "Rendering Image: 100%|██████████| 25/25 [00:00<00:00, 1961.57it/s]\n",
      "Downloading: 40it [00:00, 67.92it/s]               \n",
      "Rendering Image: 100%|██████████| 25/25 [00:00<00:00, 2305.42it/s]\n",
      "Downloading: 48it [00:00, 67.90it/s]                        \n",
      "Rendering Image: 100%|██████████| 25/25 [00:00<00:00, 3739.17it/s]\n",
      "Downloading: 42it [00:00, 60.87it/s]                        \n",
      "Rendering Image: 100%|██████████| 25/25 [00:00<00:00, 2909.96it/s]\n",
      "Downloading: 44it [00:00, 97.46it/s]                         \n",
      "Rendering Image: 100%|██████████| 25/25 [00:00<00:00, 3824.41it/s]\n",
      "Downloading: 40it [00:00, 50.30it/s]               \n",
      "Rendering Image: 100%|██████████| 25/25 [00:00<00:00, 2828.10it/s]\n",
      "Downloading: 46it [00:00, 66.73it/s]                        \n",
      "Rendering Image: 100%|██████████| 25/25 [00:00<00:00, 2951.91it/s]\n",
      "Downloading: 46it [00:00, 104.16it/s]                        \n",
      "Rendering Image: 100%|██████████| 25/25 [00:00<00:00, 3652.30it/s]\n",
      "Downloading: 44it [00:00, 65.57it/s]                        \n",
      "Rendering Image: 100%|██████████| 25/25 [00:00<00:00, 2671.26it/s]\n",
      "Downloading: 46it [00:00, 97.72it/s]                         \n",
      "Rendering Image: 100%|██████████| 25/25 [00:00<00:00, 3292.96it/s]\n",
      "Downloading: 44it [00:00, 80.41it/s]                        \n",
      "Rendering Image: 100%|██████████| 25/25 [00:00<00:00, 3268.32it/s]\n",
      "Downloading: 40it [00:00, 56.81it/s]               \n",
      "Rendering Image: 100%|██████████| 25/25 [00:00<00:00, 3878.30it/s]\n",
      "Downloading: 44it [00:00, 85.34it/s]                         \n",
      "Rendering Image: 100%|██████████| 25/25 [00:00<00:00, 3488.28it/s]\n",
      "Downloading: 42it [00:00, 84.98it/s]                         \n",
      "Rendering Image: 100%|██████████| 25/25 [00:00<00:00, 3524.15it/s]\n",
      "Downloading: 44it [00:00, 67.41it/s]                        \n",
      "Rendering Image: 100%|██████████| 25/25 [00:00<00:00, 3602.73it/s]\n",
      "Downloading: 46it [00:00, 90.15it/s]                         \n",
      "Rendering Image: 100%|██████████| 25/25 [00:00<00:00, 3542.61it/s]\n",
      "Downloading: 44it [00:00, 96.39it/s]                         \n",
      "Rendering Image: 100%|██████████| 25/25 [00:00<00:00, 3816.75it/s]\n",
      "Downloading: 42it [00:00, 67.08it/s]                        \n",
      "Rendering Image: 100%|██████████| 25/25 [00:00<00:00, 2097.49it/s]\n",
      "Downloading: 42it [00:00, 85.41it/s]                        \n",
      "Rendering Image: 100%|██████████| 25/25 [00:00<00:00, 4048.56it/s]\n",
      "Downloading: 42it [00:00, 89.90it/s]                        \n",
      "Rendering Image: 100%|██████████| 25/25 [00:00<00:00, 3975.19it/s]\n",
      "Downloading: 40it [00:00, 56.57it/s]               \n",
      "Rendering Image: 100%|██████████| 25/25 [00:00<00:00, 3651.16it/s]\n",
      "Downloading: 44it [00:00, 66.20it/s]                        \n",
      "Rendering Image: 100%|██████████| 25/25 [00:00<00:00, 1802.70it/s]\n",
      "Downloading: 44it [00:00, 84.56it/s]                         \n",
      "Rendering Image: 100%|██████████| 25/25 [00:00<00:00, 3305.10it/s]\n",
      "Downloading: 42it [00:01, 45.14it/s]                        \n",
      "Rendering Image: 100%|██████████| 25/25 [00:00<00:00, 3048.36it/s]\n",
      "Downloading: 40it [00:00, 49.20it/s]               \n",
      "Rendering Image: 100%|██████████| 25/25 [00:00<00:00, 3528.54it/s]\n",
      "Downloading: 44it [00:00, 90.99it/s]                        \n",
      "Rendering Image: 100%|██████████| 25/25 [00:00<00:00, 3724.17it/s]\n",
      "Downloading: 46it [00:00, 68.50it/s]                        \n",
      "Rendering Image: 100%|██████████| 25/25 [00:00<00:00, 2928.41it/s]\n",
      "Downloading: 42it [00:00, 80.97it/s]                        \n",
      "Rendering Image: 100%|██████████| 25/25 [00:00<00:00, 3535.56it/s]\n",
      "Downloading: 46it [00:00, 93.28it/s]                        \n",
      "Rendering Image: 100%|██████████| 25/25 [00:00<00:00, 3646.97it/s]\n",
      "Downloading: 42it [00:00, 61.96it/s]                        \n",
      "Rendering Image: 100%|██████████| 25/25 [00:00<00:00, 3145.10it/s]\n",
      "Downloading: 40it [00:00, 74.47it/s]               \n",
      "Rendering Image: 100%|██████████| 25/25 [00:00<00:00, 3493.04it/s]\n",
      "Downloading: 46it [00:00, 93.30it/s]                        \n",
      "Rendering Image: 100%|██████████| 25/25 [00:00<00:00, 2364.96it/s]\n",
      "Downloading: 42it [00:00, 59.93it/s]                        \n",
      "Rendering Image: 100%|██████████| 25/25 [00:00<00:00, 4035.00it/s]\n",
      "Downloading: 40it [00:00, 78.48it/s]               \n",
      "Rendering Image: 100%|██████████| 25/25 [00:00<00:00, 3646.97it/s]\n",
      "Downloading: 48it [00:00, 85.80it/s]                        \n",
      "Rendering Image: 100%|██████████| 25/25 [00:00<00:00, 4075.62it/s]\n",
      "Downloading: 48it [00:00, 71.82it/s]                        \n",
      "Rendering Image: 100%|██████████| 25/25 [00:00<00:00, 2190.65it/s]\n",
      "Downloading: 40it [00:00, 75.45it/s]               \n",
      "Rendering Image: 100%|██████████| 25/25 [00:00<00:00, 2396.25it/s]\n",
      "Downloading: 42it [00:00, 77.45it/s]                        \n",
      "Rendering Image: 100%|██████████| 25/25 [00:00<00:00, 2247.61it/s]\n",
      "Downloading: 44it [00:00, 50.37it/s]                        \n",
      "Rendering Image: 100%|██████████| 25/25 [00:00<00:00, 2489.56it/s]\n",
      "Downloading: 42it [00:00, 93.33it/s]                         \n",
      "Rendering Image: 100%|██████████| 25/25 [00:00<00:00, 2560.44it/s]\n",
      "Downloading:   0%|          | 0/25 [00:00<?, ?it/s]"
     ]
    }
   ],
   "source": [
    "random.shuffle(crack_locs)\n",
    "\n",
    "frame_dset = np.empty((2*n_cracks, final_dim, final_dim))\n",
    "target_dset = np.empty((2*n_cracks, final_dim, final_dim))\n",
    "\n",
    "for i, (x,y,z) in enumerate(crack_locs):\n",
    "    x,y,z = (x-final_dim/2*2**2, y-final_dim/2*2**2, z); d = final_dim*2**2\n",
    "    \n",
    "    before = sampler.chunk_at_global_coords((x,y,z-1),(x+d,y+d,z))\n",
    "    problem = sampler.chunk_at_global_coords((x,y,z),(x+d,y+d,z+1))\n",
    "    after = sampler.chunk_at_global_coords((x,y,z+1),(x+d,y+d,z+2))\n",
    "    \n",
    "    frame_dset[2*i,:,:] = problem\n",
    "    target_dset[2*i,:,:] = before\n",
    "    frame_dset[2*i+1,:,:] = problem\n",
    "    target_dset[2*i+1,:,:] = after\n",
    "\n",
    "h5f = h5py.File('../data/natural/2006_labelled_cracksfolds.h5', 'w')\n",
    "h5f.create_dataset(u'frame', data=frame_dset)\n",
    "h5f.create_dataset(u'target', data=target_dset)\n",
    "h5f.close()"
   ]
  },
  {
   "cell_type": "code",
   "execution_count": null,
   "metadata": {
    "collapsed": true
   },
   "outputs": [],
   "source": []
  },
  {
   "cell_type": "code",
   "execution_count": null,
   "metadata": {
    "collapsed": true
   },
   "outputs": [],
   "source": []
  }
 ],
 "metadata": {
  "kernelspec": {
   "display_name": "Python 2",
   "language": "python",
   "name": "python2"
  },
  "language_info": {
   "codemirror_mode": {
    "name": "ipython",
    "version": 2
   },
   "file_extension": ".py",
   "mimetype": "text/x-python",
   "name": "python",
   "nbconvert_exporter": "python",
   "pygments_lexer": "ipython2",
   "version": "2.7.14"
  }
 },
 "nbformat": 4,
 "nbformat_minor": 0
}
