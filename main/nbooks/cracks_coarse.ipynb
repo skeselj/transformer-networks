{
 "cells": [
  {
   "cell_type": "markdown",
   "metadata": {},
   "source": [
    "# SpyNet on Coarse Cracks\n",
    "### Mar. 20, 2018\n",
    "\n",
    "<table>\n",
    "  <tr>\n",
    "    <td> <img src=\"../logs/crack/rough/1/sc10/test_700_images.png\"> </td>\n",
    "    <td> <img src=\"../logs/crack/rough/1/sc10/test_700_field.png\"> </td>\n",
    "  </tr>\n",
    "</table>"
   ]
  },
  {
   "cell_type": "markdown",
   "metadata": {},
   "source": [
    "## Dataset\n",
    "\n",
    "An element is: (\"target\", \"frame\") = (a pinky40 sample, the cracked version of that sample).\n",
    "\n",
    "This is how I crack an image:\n",
    " - pick a starting point on its top side $(0, y_s)$ where $y_s \\sim U \\Big( \\frac{1}{4}w, \\frac{3}{4}w \\Big)$\n",
    " - randomly walk until you hit a border\n",
    "    - the parameters of the walk are $(p_l, p_r, p_d)$, the odds of going left, right, and down, respectively, at each step\n",
    "    - the odds $(1,2,3)$ are randomly assigned to $(p_l, p_r, p_d)$, and then $p_d$ is incremented by 1\n",
    " - shift the two sides made by the crack\n",
    "    - the parameters the left/ride side's movement are $(\\theta_L, d_L)$ / $(\\theta_R, d_R)$; side $S$ shifts $d_S$ at angle $\\theta_S$\n",
    "    - $d_R, d_L \\sim U(4,12)$, $\\theta_L \\sim U\\Big(\\frac{3}{4} \\pi, \\frac{5}{4} \\pi \\Big)$, and $\\theta_R \\sim U \\Big( \\frac{-1}{4} \\pi, \\frac{1}{4} \\pi \\Big)$\n",
    " - randomly rotate the image (and it's corresponding source) by $90^{\\circ}$ $n_r$ times, where $n_r$ is randomly sampled from $(0,1,2,3)$\n",
    "\n",
    "The images are $224 \\times 224$ and have no 0s. The cracks are filled with values drawn from $U(245,255)$. There are $10,000$ training images and $1,000$ testing images."
   ]
  },
  {
   "cell_type": "markdown",
   "metadata": {},
   "source": [
    "## Model\n",
    "\n",
    "SpyNet with $5$ layers that are all used. Each layer has $5$ same convolutions, each with $7\\times7$ kernels.\n",
    "\n",
    "The loss function consists of MSE and smoothness (sum of absolute first-order differences) with a coefficient on smoothness that makes it comparable to MSE. "
   ]
  },
  {
   "cell_type": "markdown",
   "metadata": {},
   "source": [
    "## Results\n",
    "\n",
    "### Test samples\n",
    "\n",
    "These are $10$ randomly selected test samples after $3$ epochs of training."
   ]
  },
  {
   "cell_type": "markdown",
   "metadata": {},
   "source": [
    "<table>\n",
    "  <tr>\n",
    "    <td> <img src=\"../logs/crack/rough/1/sc10/test_0_images.png\"> </td>\n",
    "    <td> <img src=\"../logs/crack/rough/1/sc10/test_0_field.png\"> </td>\n",
    "  </tr>\n",
    "  <tr>\n",
    "    <td> <img src=\"../logs/crack/rough/1/sc10/test_100_images.png\"> </td>\n",
    "    <td> <img src=\"../logs/crack/rough/1/sc10/test_100_field.png\"> </td>\n",
    "  </tr>\n",
    "  <tr>\n",
    "    <td> <img src=\"../logs/crack/rough/1/sc10/test_200_images.png\"> </td>\n",
    "    <td> <img src=\"../logs/crack/rough/1/sc10/test_200_field.png\"> </td>\n",
    "  </tr>\n",
    "  <tr>\n",
    "    <td> <img src=\"../logs/crack/rough/1/sc10/test_300_images.png\"> </td>\n",
    "    <td> <img src=\"../logs/crack/rough/1/sc10/test_300_field.png\"> </td>\n",
    "  </tr>\n",
    "  <tr>\n",
    "    <td> <img src=\"../logs/crack/rough/1/sc10/test_400_images.png\"> </td>\n",
    "    <td> <img src=\"../logs/crack/rough/1/sc10/test_400_field.png\"> </td>\n",
    "  </tr>\n",
    "  <tr>\n",
    "    <td> <img src=\"../logs/crack/rough/1/sc10/test_500_images.png\"> </td>\n",
    "    <td> <img src=\"../logs/crack/rough/1/sc10/test_500_field.png\"> </td>\n",
    "  </tr>\n",
    "  <tr>\n",
    "    <td> <img src=\"../logs/crack/rough/1/sc10/test_600_images.png\"> </td>\n",
    "    <td> <img src=\"../logs/crack/rough/1/sc10/test_600_field.png\"> </td>\n",
    "  </tr>\n",
    "  <tr>\n",
    "    <td> <img src=\"../logs/crack/rough/1/sc10/test_700_images.png\"> </td>\n",
    "    <td> <img src=\"../logs/crack/rough/1/sc10/test_700_field.png\"> </td>\n",
    "  </tr>\n",
    "  <tr>\n",
    "    <td> <img src=\"../logs/crack/rough/1/sc10/test_800_images.png\"> </td>\n",
    "    <td> <img src=\"../logs/crack/rough/1/sc10/test_800_field.png\"> </td>\n",
    "  </tr>\n",
    "  <tr>\n",
    "    <td> <img src=\"../logs/crack/rough/1/sc10/test_900_images.png\"> </td>\n",
    "    <td> <img src=\"../logs/crack/rough/1/sc10/test_900_field.png\"> </td>\n",
    "  </tr>\n",
    "</table>"
   ]
  },
  {
   "cell_type": "markdown",
   "metadata": {},
   "source": [
    "### Training curve\n",
    "\n",
    "The training curve over the $3$ epochs (blue is training and red is testing).\n",
    "<img src=\"../logs/crack/rough/1/sc10/_plot.png\" width=\"700\">"
   ]
  },
  {
   "cell_type": "markdown",
   "metadata": {},
   "source": [
    "## Discussion\n",
    "\n",
    "### Patchiness\n",
    "\n",
    "There are a few patchy fields above, specificaly the 6th and 7th ones. These samples seem to have a frame and target that are similar. This means the correct vector field is close to the identity (all 0). I think the patchiness arises because when the vectors are small, they can alter their direction without greatly influencing the value they sample. \n",
    "\n",
    "It would be nice if the field were smooth even when its elements are small in magnitude. Two next steps which I think could accomplish this are: (1) make smoothness penalty angle-based not just first-order difference based (2) train with a composite dataset of not just cracks. Note: a natural action would be to increase the smoothness coefficient, but so far I have not been able to help smoothness much without overpowering MSE."
   ]
  },
  {
   "cell_type": "markdown",
   "metadata": {},
   "source": [
    "## Todo\n",
    "### 1. Try on real cracks\n",
    "### 2. Residuals\n",
    "### 3*. Cuts (take away some tissue?)"
   ]
  },
  {
   "cell_type": "code",
   "execution_count": null,
   "metadata": {
    "collapsed": true
   },
   "outputs": [],
   "source": []
  }
 ],
 "metadata": {
  "kernelspec": {
   "display_name": "Python 2",
   "language": "python",
   "name": "python2"
  },
  "language_info": {
   "codemirror_mode": {
    "name": "ipython",
    "version": 2
   },
   "file_extension": ".py",
   "mimetype": "text/x-python",
   "name": "python",
   "nbconvert_exporter": "python",
   "pygments_lexer": "ipython2",
   "version": "2.7.14"
  }
 },
 "nbformat": 4,
 "nbformat_minor": 1
}
