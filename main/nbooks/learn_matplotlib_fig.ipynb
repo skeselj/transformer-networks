{
 "cells": [
  {
   "cell_type": "code",
   "execution_count": null,
   "metadata": {
    "collapsed": true
   },
   "outputs": [],
   "source": []
  },
  {
   "cell_type": "code",
   "execution_count": 1,
   "metadata": {
    "collapsed": true
   },
   "outputs": [],
   "source": [
    "import matplotlib.pyplot as plt\n",
    "import numpy as np"
   ]
  },
  {
   "cell_type": "code",
   "execution_count": 34,
   "metadata": {
    "collapsed": false
   },
   "outputs": [],
   "source": [
    "plt.set_cmap('Greys_r')\n",
    "\n",
    "fig = plt.figure(figsize=(10,20))\n",
    "\n",
    "x = np.random.randn(100,)\n",
    "y = np.random.randn(100,)\n",
    "ax1 = fig.add_subplot(2,1,1)\n",
    "ax1.scatter(x,y)\n",
    "\n",
    "x = np.random.randn(100,)\n",
    "y = np.random.randn(100,)\n",
    "ax2 = fig.add_subplot(2,1,2)\n",
    "ax2.scatter(x,y)\n",
    "\n",
    "plt.suptitle('Temp', fontsize=16)\n",
    "\n",
    "fig.savefig(\"temp\")"
   ]
  },
  {
   "cell_type": "code",
   "execution_count": null,
   "metadata": {
    "collapsed": true
   },
   "outputs": [],
   "source": []
  }
 ],
 "metadata": {
  "kernelspec": {
   "display_name": "Python 2",
   "language": "python",
   "name": "python2"
  },
  "language_info": {
   "codemirror_mode": {
    "name": "ipython",
    "version": 2
   },
   "file_extension": ".py",
   "mimetype": "text/x-python",
   "name": "python",
   "nbconvert_exporter": "python",
   "pygments_lexer": "ipython2",
   "version": "2.7.14"
  }
 },
 "nbformat": 4,
 "nbformat_minor": 0
}
